{
 "cells": [
  {
   "cell_type": "code",
   "execution_count": 2,
   "id": "02ec8112-3576-4282-bc12-fb8c26c3319b",
   "metadata": {},
   "outputs": [],
   "source": [
    "\"Завдання 1\"\n",
    "\n",
    "class Vehicle: \n",
    "    kind = None\n",
    "    top_sp = None\n",
    "    mil = None\n",
    "\n",
    "   \n",
    "    def __init__(self, kind: str, top_sp: float, mil: int):\n",
    "        self.kind = kind\n",
    "        self.top_sp = top_sp\n",
    "        self.mil = mil\n",
    "        \n",
    "    def get_data(self):\n",
    "        print(\"Car type:\",self.kind,\"Max speed:\", self.top_sp,\"km/h\",\"Mileage:\", self.mil,\"km\")\n",
    "\n",
    "    \n",
    "car1 = Vehicle(\"SUV\", 90, 2000)\n"
   ]
  },
  {
   "cell_type": "code",
   "execution_count": 75,
   "id": "28f47d79-5d4c-4b4e-b4be-41902c67788f",
   "metadata": {},
   "outputs": [],
   "source": [
    "\"Завдання 2\"\n",
    "\n",
    "class Vehicle: \n",
    "    kind = None\n",
    "    top_sp = None\n",
    "    mil = None\n",
    "\n",
    "   \n",
    "    def __init__(self, kind: str, top_sp: float, mil: int, seats):\n",
    "        self.kind = kind\n",
    "        self.top_sp = top_sp\n",
    "        self.mil = mil\n",
    "        self.seats = seats\n",
    "        \n",
    "    def get_data(self):\n",
    "        print(\"Car type:\",self.kind,\"Max speed:\", self.top_sp,\"km/h\",\"Mileage:\", self.mil,\"km\", \"seats: \", self.seats)\n",
    "\n",
    "    def rental_fee(self):\n",
    "        return self.seats ** 2\n",
    "        \n",
    "    def Drive(self, mil:int):\n",
    "        self.mil = mil\n",
    "        \n",
    "\n",
    "class Bus(Vehicle):\n",
    "    \n",
    "    passenger_num = 50\n",
    "    \n",
    "    def __init__(self, kind: str, top_sp: float, mil: int, passenger_num = 50):\n",
    "        super().__init__(kind, top_sp, mil, seats)\n",
    "        self.passenger_num = passenger_num\n",
    "        \n",
    "    def rental_fee(self):\n",
    "        fee = super().rental_fee()\n",
    "        if self.seats > 10:\n",
    "            fee *= 1.1\n",
    "        return fee\n",
    "        \n",
    "\n",
    "class Car(Vehicle):\n",
    "    color = 'white'\n",
    "    \n",
    "    def __init__(self, kind: str, top_sp: float, mil: int, seats: int, color: str = 'white'):\n",
    "        super().__init__(kind, top_sp, mil, seats)\n",
    "        self.color = color\n",
    "    \n",
    "\n",
    "\n"
   ]
  }
 ],
 "metadata": {
  "kernelspec": {
   "display_name": "Python 3 (ipykernel)",
   "language": "python",
   "name": "python3"
  },
  "language_info": {
   "codemirror_mode": {
    "name": "ipython",
    "version": 3
   },
   "file_extension": ".py",
   "mimetype": "text/x-python",
   "name": "python",
   "nbconvert_exporter": "python",
   "pygments_lexer": "ipython3",
   "version": "3.12.4"
  }
 },
 "nbformat": 4,
 "nbformat_minor": 5
}
